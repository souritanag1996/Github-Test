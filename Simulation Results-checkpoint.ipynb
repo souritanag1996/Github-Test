{
 "cells": [
  {
   "cell_type": "code",
   "execution_count": 1,
   "id": "93309117-9d51-4774-a3e4-e162834eb6c0",
   "metadata": {},
   "outputs": [],
   "source": [
    "import numpy as np\n",
    "import torch\n",
    "import random"
   ]
  },
  {
   "cell_type": "markdown",
   "id": "2af0dd6c-5de8-4cce-b320-37f0f5469aae",
   "metadata": {},
   "source": [
    "### For checking a > b"
   ]
  },
  {
   "cell_type": "code",
   "execution_count": 256,
   "id": "e0b37fc1-aa39-4c06-8b49-f5d34338cd74",
   "metadata": {},
   "outputs": [],
   "source": [
    "q = 91\n",
    "\n",
    "lam = torch.arange(1,101,1)\n",
    "\n",
    "def alp(l,q,s):\n",
    "    f = (q + l)/q\n",
    "    \n",
    "    #return torch.linspace(0.1, f-1e-1, steps=s)\n",
    "    return torch.tensor([random.uniform(0.1, f-1e-1) for _ in range(100)])\n"
   ]
  },
  {
   "cell_type": "code",
   "execution_count": 257,
   "id": "94e96c99-ad12-43fb-9a57-30d83af58eef",
   "metadata": {},
   "outputs": [],
   "source": [
    "a =  -1*q/2*(((q + l - alph*q)/(2*alph*q)) - np.log((alph*q + q + l)/(2*alph*q)))\n",
    "b = q/2 *(((q + l - alph*q)/(2*(q + l*2))) + np.log((q + 3*l + alph*q)/(2*(q + l*2))))"
   ]
  },
  {
   "cell_type": "code",
   "execution_count": 258,
   "id": "701c4387-9929-45c8-bab7-1af1e2e09c4c",
   "metadata": {},
   "outputs": [],
   "source": [
    "alpha = torch.zeros((lam.shape[0],lam.shape[0]))\n",
    "for i in range(lam.shape[0]):\n",
    "    #print(lam[i].item())\n",
    "    alpha[i,:] = alp(l = lam[i].item(),q=91,s=100)"
   ]
  },
  {
   "cell_type": "code",
   "execution_count": 259,
   "id": "768f1b2a-a6b4-44ed-b302-167c84f908aa",
   "metadata": {},
   "outputs": [],
   "source": [
    "#Computation of a and b\n",
    "prob_ab = torch.zeros((lam.shape[0],lam.shape[0]))\n",
    "q = 91\n",
    "for i in range(lam.shape[0]):\n",
    "    l = lam[i].item()\n",
    "    alph = alpha[i,:].reshape(lam.shape[0],)\n",
    "    a =  torch.exp(-q / 2 * (((q + l - alph * q) / (2 * alph * q)) - torch.log((alph * q + q + l) / (2 * alph * q))))\n",
    "    b = torch.exp(q / 2 * (((q + l - alph * q) / (2 * (q + l * 2))) + torch.log((q + 3 * l + alph * q) / (2 * (q + l * 2)))))\n",
    "    prob_ab[i,:] = a - b"
   ]
  },
  {
   "cell_type": "code",
   "execution_count": 260,
   "id": "11d76d78-0127-4e2c-913e-adcb3d5e11f0",
   "metadata": {},
   "outputs": [
    {
     "data": {
      "text/plain": [
       "tensor(True)"
      ]
     },
     "execution_count": 260,
     "metadata": {},
     "output_type": "execute_result"
    }
   ],
   "source": [
    "prob_ab\n",
    "cond = prob_ab < 0\n",
    "torch.all(cond) #indicates all the prob values a < b"
   ]
  },
  {
   "cell_type": "code",
   "execution_count": 261,
   "id": "60803236-c1bc-4102-a012-a25f8148a7d3",
   "metadata": {},
   "outputs": [
    {
     "data": {
      "text/plain": [
       "tensor([[-0.2313, -0.2238, -0.2310,  ..., -0.2121, -0.0990, -0.1982],\n",
       "        [-0.2370, -0.1922, -0.0018,  ..., -0.0146, -0.0164, -0.1401],\n",
       "        [-0.1979, -0.1881, -0.0925,  ..., -0.1868, -0.1885, -0.0121],\n",
       "        ...,\n",
       "        [-0.4434, -0.1065, -0.2364,  ..., -0.0226, -0.2446, -0.1023],\n",
       "        [-0.1348, -0.4814, -0.5094,  ..., -0.5209, -0.1155, -0.4522],\n",
       "        [-0.4998, -0.2864, -0.1425,  ..., -0.4603, -0.0270, -0.4109]])"
      ]
     },
     "execution_count": 261,
     "metadata": {},
     "output_type": "execute_result"
    }
   ],
   "source": [
    "prob_ab"
   ]
  },
  {
   "cell_type": "code",
   "execution_count": null,
   "id": "111699fc-7fb5-4640-b1c9-5f4b78c9a34a",
   "metadata": {},
   "outputs": [],
   "source": []
  },
  {
   "cell_type": "code",
   "execution_count": null,
   "id": "6cf22828-02fa-48c5-b964-fc69a4bc5c5a",
   "metadata": {},
   "outputs": [],
   "source": []
  }
 ],
 "metadata": {
  "kernelspec": {
   "display_name": "Python 3 (ipykernel)",
   "language": "python",
   "name": "python3"
  },
  "language_info": {
   "codemirror_mode": {
    "name": "ipython",
    "version": 3
   },
   "file_extension": ".py",
   "mimetype": "text/x-python",
   "name": "python",
   "nbconvert_exporter": "python",
   "pygments_lexer": "ipython3",
   "version": "3.9.21"
  }
 },
 "nbformat": 4,
 "nbformat_minor": 5
}
